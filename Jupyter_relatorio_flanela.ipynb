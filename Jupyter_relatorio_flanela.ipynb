{
 "cells": [
  {
   "cell_type": "markdown",
   "metadata": {},
   "source": [
    "# Conexão com postgres e Relatorios do Sistema"
   ]
  },
  {
   "cell_type": "markdown",
   "metadata": {},
   "source": [
    "## Instalando biblioteca de acesso com postgres e manipulação de dados e gráficos"
   ]
  },
  {
   "cell_type": "code",
   "execution_count": 12,
   "metadata": {
    "scrolled": true
   },
   "outputs": [
    {
     "name": "stdout",
     "output_type": "stream",
     "text": [
      "Requirement already satisfied: psycopg2 in e:\\anacondajupyter\\lib\\site-packages (2.7.6.1)\n"
     ]
    },
    {
     "name": "stderr",
     "output_type": "stream",
     "text": [
      "twisted 18.7.0 requires PyHamcrest>=1.9.0, which is not installed.\n",
      "You are using pip version 10.0.1, however version 18.1 is available.\n",
      "You should consider upgrading via the 'python -m pip install --upgrade pip' command.\n"
     ]
    },
    {
     "name": "stdout",
     "output_type": "stream",
     "text": [
      "Requirement already satisfied: seaborn in e:\\anacondajupyter\\lib\\site-packages (0.9.0)\n",
      "Requirement already satisfied: numpy>=1.9.3 in e:\\anacondajupyter\\lib\\site-packages (from seaborn) (1.15.1)\n",
      "Requirement already satisfied: pandas>=0.15.2 in e:\\anacondajupyter\\lib\\site-packages (from seaborn) (0.23.4)\n",
      "Requirement already satisfied: matplotlib>=1.4.3 in e:\\anacondajupyter\\lib\\site-packages (from seaborn) (2.2.3)\n",
      "Requirement already satisfied: scipy>=0.14.0 in e:\\anacondajupyter\\lib\\site-packages (from seaborn) (1.1.0)\n",
      "Requirement already satisfied: python-dateutil>=2.5.0 in e:\\anacondajupyter\\lib\\site-packages (from pandas>=0.15.2->seaborn) (2.7.3)\n",
      "Requirement already satisfied: pytz>=2011k in e:\\anacondajupyter\\lib\\site-packages (from pandas>=0.15.2->seaborn) (2018.5)\n",
      "Requirement already satisfied: cycler>=0.10 in e:\\anacondajupyter\\lib\\site-packages (from matplotlib>=1.4.3->seaborn) (0.10.0)\n",
      "Requirement already satisfied: pyparsing!=2.0.4,!=2.1.2,!=2.1.6,>=2.0.1 in e:\\anacondajupyter\\lib\\site-packages (from matplotlib>=1.4.3->seaborn) (2.2.0)\n",
      "Requirement already satisfied: six>=1.10 in e:\\anacondajupyter\\lib\\site-packages (from matplotlib>=1.4.3->seaborn) (1.11.0)\n",
      "Requirement already satisfied: kiwisolver>=1.0.1 in e:\\anacondajupyter\\lib\\site-packages (from matplotlib>=1.4.3->seaborn) (1.0.1)\n",
      "Requirement already satisfied: setuptools in e:\\anacondajupyter\\lib\\site-packages (from kiwisolver>=1.0.1->matplotlib>=1.4.3->seaborn) (40.2.0)\n"
     ]
    },
    {
     "name": "stderr",
     "output_type": "stream",
     "text": [
      "twisted 18.7.0 requires PyHamcrest>=1.9.0, which is not installed.\n",
      "You are using pip version 10.0.1, however version 18.1 is available.\n",
      "You should consider upgrading via the 'python -m pip install --upgrade pip' command.\n"
     ]
    },
    {
     "name": "stdout",
     "output_type": "stream",
     "text": [
      "Requirement already satisfied: pandas in e:\\anacondajupyter\\lib\\site-packages (0.23.4)\n",
      "Requirement already satisfied: python-dateutil>=2.5.0 in e:\\anacondajupyter\\lib\\site-packages (from pandas) (2.7.3)\n",
      "Requirement already satisfied: pytz>=2011k in e:\\anacondajupyter\\lib\\site-packages (from pandas) (2018.5)\n",
      "Requirement already satisfied: numpy>=1.9.0 in e:\\anacondajupyter\\lib\\site-packages (from pandas) (1.15.1)\n",
      "Requirement already satisfied: six>=1.5 in e:\\anacondajupyter\\lib\\site-packages (from python-dateutil>=2.5.0->pandas) (1.11.0)\n"
     ]
    },
    {
     "name": "stderr",
     "output_type": "stream",
     "text": [
      "twisted 18.7.0 requires PyHamcrest>=1.9.0, which is not installed.\n",
      "You are using pip version 10.0.1, however version 18.1 is available.\n",
      "You should consider upgrading via the 'python -m pip install --upgrade pip' command.\n"
     ]
    }
   ],
   "source": [
    "!pip install psycopg2\n",
    "!pip install --user seaborn\n",
    "!pip install --user pandas"
   ]
  },
  {
   "cell_type": "markdown",
   "metadata": {},
   "source": [
    "### Importando bibliotecas"
   ]
  },
  {
   "cell_type": "code",
   "execution_count": 13,
   "metadata": {},
   "outputs": [],
   "source": [
    "import seaborn as sns\n",
    "import pandas as pd\n",
    "import psycopg2"
   ]
  },
  {
   "cell_type": "markdown",
   "metadata": {},
   "source": [
    "### Usando psycopg2 para configurar conexão"
   ]
  },
  {
   "cell_type": "code",
   "execution_count": 14,
   "metadata": {},
   "outputs": [],
   "source": [
    "conn = psycopg2.connect(host=\"localhost\", port=\"5432\", database=\"FE\", user=\"postgres\", password=\"2836417\")"
   ]
  },
  {
   "cell_type": "markdown",
   "metadata": {},
   "source": [
    "# Relatório 1"
   ]
  },
  {
   "cell_type": "markdown",
   "metadata": {},
   "source": [
    "### VIEW PESSOA JURÍDICA\n",
    "Objetivo: Juntar as informações de pessoa com pessoa juridica"
   ]
  },
  {
   "cell_type": "markdown",
   "metadata": {},
   "source": [
    "Código para obtenção do resultado:"
   ]
  },
  {
   "cell_type": "code",
   "execution_count": 15,
   "metadata": {},
   "outputs": [],
   "source": [
    "result1 = pd.read_sql_query(\"\"\"\n",
    "        select jur.id, jur.cnpj, pes.nome from pessoa_juridica as jur\n",
    "        inner join pessoa as pes on jur.fk_pessoa_id = pes.id limit 10;\n",
    "\"\"\",conn)"
   ]
  },
  {
   "cell_type": "code",
   "execution_count": 16,
   "metadata": {},
   "outputs": [
    {
     "data": {
      "text/html": [
       "<div>\n",
       "<style scoped>\n",
       "    .dataframe tbody tr th:only-of-type {\n",
       "        vertical-align: middle;\n",
       "    }\n",
       "\n",
       "    .dataframe tbody tr th {\n",
       "        vertical-align: top;\n",
       "    }\n",
       "\n",
       "    .dataframe thead th {\n",
       "        text-align: right;\n",
       "    }\n",
       "</style>\n",
       "<table border=\"1\" class=\"dataframe\">\n",
       "  <thead>\n",
       "    <tr style=\"text-align: right;\">\n",
       "      <th></th>\n",
       "      <th>id</th>\n",
       "      <th>cnpj</th>\n",
       "      <th>nome</th>\n",
       "    </tr>\n",
       "  </thead>\n",
       "  <tbody>\n",
       "    <tr>\n",
       "      <th>0</th>\n",
       "      <td>1</td>\n",
       "      <td>zlurb-cnpj</td>\n",
       "      <td>qzefs-nome</td>\n",
       "    </tr>\n",
       "    <tr>\n",
       "      <th>1</th>\n",
       "      <td>2</td>\n",
       "      <td>owwqi-cnpj</td>\n",
       "      <td>xzimh-nome</td>\n",
       "    </tr>\n",
       "    <tr>\n",
       "      <th>2</th>\n",
       "      <td>3</td>\n",
       "      <td>pwrgv-cnpj</td>\n",
       "      <td>vnkyn-nome</td>\n",
       "    </tr>\n",
       "    <tr>\n",
       "      <th>3</th>\n",
       "      <td>4</td>\n",
       "      <td>tyyny-cnpj</td>\n",
       "      <td>ciibg-nome</td>\n",
       "    </tr>\n",
       "    <tr>\n",
       "      <th>4</th>\n",
       "      <td>5</td>\n",
       "      <td>yxbuv-cnpj</td>\n",
       "      <td>enpzj-nome</td>\n",
       "    </tr>\n",
       "    <tr>\n",
       "      <th>5</th>\n",
       "      <td>6</td>\n",
       "      <td>beogk-cnpj</td>\n",
       "      <td>rpnup-nome</td>\n",
       "    </tr>\n",
       "    <tr>\n",
       "      <th>6</th>\n",
       "      <td>7</td>\n",
       "      <td>yiwwj-cnpj</td>\n",
       "      <td>klkjm-nome</td>\n",
       "    </tr>\n",
       "    <tr>\n",
       "      <th>7</th>\n",
       "      <td>8</td>\n",
       "      <td>tewve-cnpj</td>\n",
       "      <td>bosqy-nome</td>\n",
       "    </tr>\n",
       "    <tr>\n",
       "      <th>8</th>\n",
       "      <td>9</td>\n",
       "      <td>riftu-cnpj</td>\n",
       "      <td>mtesk-nome</td>\n",
       "    </tr>\n",
       "    <tr>\n",
       "      <th>9</th>\n",
       "      <td>10</td>\n",
       "      <td>iblvn-cnpj</td>\n",
       "      <td>bkwmf-nome</td>\n",
       "    </tr>\n",
       "  </tbody>\n",
       "</table>\n",
       "</div>"
      ],
      "text/plain": [
       "   id        cnpj        nome\n",
       "0   1  zlurb-cnpj  qzefs-nome\n",
       "1   2  owwqi-cnpj  xzimh-nome\n",
       "2   3  pwrgv-cnpj  vnkyn-nome\n",
       "3   4  tyyny-cnpj  ciibg-nome\n",
       "4   5  yxbuv-cnpj  enpzj-nome\n",
       "5   6  beogk-cnpj  rpnup-nome\n",
       "6   7  yiwwj-cnpj  klkjm-nome\n",
       "7   8  tewve-cnpj  bosqy-nome\n",
       "8   9  riftu-cnpj  mtesk-nome\n",
       "9  10  iblvn-cnpj  bkwmf-nome"
      ]
     },
     "execution_count": 16,
     "metadata": {},
     "output_type": "execute_result"
    }
   ],
   "source": [
    "result1"
   ]
  },
  {
   "cell_type": "markdown",
   "metadata": {},
   "source": [
    "# Relatório 2"
   ]
  },
  {
   "cell_type": "markdown",
   "metadata": {},
   "source": [
    "### VIEW PESSOA FÍSICA \n",
    "Objetivo: Juntar as informações de pessoa com pessoa física"
   ]
  },
  {
   "cell_type": "markdown",
   "metadata": {},
   "source": [
    "codigo para obtenção do resultado:"
   ]
  },
  {
   "cell_type": "code",
   "execution_count": 17,
   "metadata": {},
   "outputs": [],
   "source": [
    "result = pd.read_sql_query(\"\"\"\n",
    "            select fis.id, fis.cpf, pes.nome from pessoa_fisica as fis\n",
    "            inner join pessoa as pes on fis.fk_pessoa_id = pes.id limit 10;\n",
    "                            \"\"\",conn)"
   ]
  },
  {
   "cell_type": "code",
   "execution_count": 18,
   "metadata": {},
   "outputs": [
    {
     "data": {
      "text/html": [
       "<div>\n",
       "<style scoped>\n",
       "    .dataframe tbody tr th:only-of-type {\n",
       "        vertical-align: middle;\n",
       "    }\n",
       "\n",
       "    .dataframe tbody tr th {\n",
       "        vertical-align: top;\n",
       "    }\n",
       "\n",
       "    .dataframe thead th {\n",
       "        text-align: right;\n",
       "    }\n",
       "</style>\n",
       "<table border=\"1\" class=\"dataframe\">\n",
       "  <thead>\n",
       "    <tr style=\"text-align: right;\">\n",
       "      <th></th>\n",
       "      <th>id</th>\n",
       "      <th>cpf</th>\n",
       "      <th>nome</th>\n",
       "    </tr>\n",
       "  </thead>\n",
       "  <tbody>\n",
       "    <tr>\n",
       "      <th>0</th>\n",
       "      <td>1</td>\n",
       "      <td>rndyczwyeo-cpf</td>\n",
       "      <td>ptvwq-nome</td>\n",
       "    </tr>\n",
       "    <tr>\n",
       "      <th>1</th>\n",
       "      <td>2</td>\n",
       "      <td>ahvtwyhuer-cpf</td>\n",
       "      <td>gtzwr-nome</td>\n",
       "    </tr>\n",
       "    <tr>\n",
       "      <th>2</th>\n",
       "      <td>3</td>\n",
       "      <td>ljosbaowxp-cpf</td>\n",
       "      <td>bkkya-nome</td>\n",
       "    </tr>\n",
       "    <tr>\n",
       "      <th>3</th>\n",
       "      <td>4</td>\n",
       "      <td>qwquhxerje-cpf</td>\n",
       "      <td>ttzul-nome</td>\n",
       "    </tr>\n",
       "    <tr>\n",
       "      <th>4</th>\n",
       "      <td>5</td>\n",
       "      <td>stymfuduai-cpf</td>\n",
       "      <td>jhwbv-nome</td>\n",
       "    </tr>\n",
       "    <tr>\n",
       "      <th>5</th>\n",
       "      <td>6</td>\n",
       "      <td>ftydqpatik-cpf</td>\n",
       "      <td>bupcy-nome</td>\n",
       "    </tr>\n",
       "    <tr>\n",
       "      <th>6</th>\n",
       "      <td>7</td>\n",
       "      <td>pskdlwsayg-cpf</td>\n",
       "      <td>chelf-nome</td>\n",
       "    </tr>\n",
       "    <tr>\n",
       "      <th>7</th>\n",
       "      <td>8</td>\n",
       "      <td>quiyncwqke-cpf</td>\n",
       "      <td>xqutz-nome</td>\n",
       "    </tr>\n",
       "    <tr>\n",
       "      <th>8</th>\n",
       "      <td>9</td>\n",
       "      <td>xekrrqbtgm-cpf</td>\n",
       "      <td>gwulx-nome</td>\n",
       "    </tr>\n",
       "    <tr>\n",
       "      <th>9</th>\n",
       "      <td>10</td>\n",
       "      <td>vvfsikduhz-cpf</td>\n",
       "      <td>gffnm-nome</td>\n",
       "    </tr>\n",
       "  </tbody>\n",
       "</table>\n",
       "</div>"
      ],
      "text/plain": [
       "   id             cpf        nome\n",
       "0   1  rndyczwyeo-cpf  ptvwq-nome\n",
       "1   2  ahvtwyhuer-cpf  gtzwr-nome\n",
       "2   3  ljosbaowxp-cpf  bkkya-nome\n",
       "3   4  qwquhxerje-cpf  ttzul-nome\n",
       "4   5  stymfuduai-cpf  jhwbv-nome\n",
       "5   6  ftydqpatik-cpf  bupcy-nome\n",
       "6   7  pskdlwsayg-cpf  chelf-nome\n",
       "7   8  quiyncwqke-cpf  xqutz-nome\n",
       "8   9  xekrrqbtgm-cpf  gwulx-nome\n",
       "9  10  vvfsikduhz-cpf  gffnm-nome"
      ]
     },
     "execution_count": 18,
     "metadata": {},
     "output_type": "execute_result"
    }
   ],
   "source": [
    "result"
   ]
  },
  {
   "cell_type": "markdown",
   "metadata": {},
   "source": [
    "Alternativamente podemos aplicar estilos a tabela para melhor formatação usando pandas e seaborn"
   ]
  },
  {
   "cell_type": "code",
   "execution_count": 19,
   "metadata": {},
   "outputs": [
    {
     "data": {
      "text/html": [
       "<style  type=\"text/css\" >\n",
       "    #T_8e5bbd4a_fe60_11e8_b230_74d435fe045brow0_col0 {\n",
       "            background-color:  #e5ffe5;\n",
       "        }    #T_8e5bbd4a_fe60_11e8_b230_74d435fe045brow1_col0 {\n",
       "            background-color:  #ccf1cc;\n",
       "        }    #T_8e5bbd4a_fe60_11e8_b230_74d435fe045brow2_col0 {\n",
       "            background-color:  #b3e3b3;\n",
       "        }    #T_8e5bbd4a_fe60_11e8_b230_74d435fe045brow3_col0 {\n",
       "            background-color:  #99d599;\n",
       "        }    #T_8e5bbd4a_fe60_11e8_b230_74d435fe045brow4_col0 {\n",
       "            background-color:  #80c780;\n",
       "        }    #T_8e5bbd4a_fe60_11e8_b230_74d435fe045brow5_col0 {\n",
       "            background-color:  #66b866;\n",
       "        }    #T_8e5bbd4a_fe60_11e8_b230_74d435fe045brow6_col0 {\n",
       "            background-color:  #4daa4d;\n",
       "        }    #T_8e5bbd4a_fe60_11e8_b230_74d435fe045brow7_col0 {\n",
       "            background-color:  #329c32;\n",
       "        }    #T_8e5bbd4a_fe60_11e8_b230_74d435fe045brow8_col0 {\n",
       "            background-color:  #198e19;\n",
       "        }    #T_8e5bbd4a_fe60_11e8_b230_74d435fe045brow9_col0 {\n",
       "            background-color:  #008000;\n",
       "        }</style>  \n",
       "<table id=\"T_8e5bbd4a_fe60_11e8_b230_74d435fe045b\" > \n",
       "<thead>    <tr> \n",
       "        <th class=\"blank level0\" ></th> \n",
       "        <th class=\"col_heading level0 col0\" >id</th> \n",
       "        <th class=\"col_heading level0 col1\" >cpf</th> \n",
       "        <th class=\"col_heading level0 col2\" >nome</th> \n",
       "    </tr></thead> \n",
       "<tbody>    <tr> \n",
       "        <th id=\"T_8e5bbd4a_fe60_11e8_b230_74d435fe045blevel0_row0\" class=\"row_heading level0 row0\" >0</th> \n",
       "        <td id=\"T_8e5bbd4a_fe60_11e8_b230_74d435fe045brow0_col0\" class=\"data row0 col0\" >1</td> \n",
       "        <td id=\"T_8e5bbd4a_fe60_11e8_b230_74d435fe045brow0_col1\" class=\"data row0 col1\" >rndyczwyeo-cpf</td> \n",
       "        <td id=\"T_8e5bbd4a_fe60_11e8_b230_74d435fe045brow0_col2\" class=\"data row0 col2\" >ptvwq-nome</td> \n",
       "    </tr>    <tr> \n",
       "        <th id=\"T_8e5bbd4a_fe60_11e8_b230_74d435fe045blevel0_row1\" class=\"row_heading level0 row1\" >1</th> \n",
       "        <td id=\"T_8e5bbd4a_fe60_11e8_b230_74d435fe045brow1_col0\" class=\"data row1 col0\" >2</td> \n",
       "        <td id=\"T_8e5bbd4a_fe60_11e8_b230_74d435fe045brow1_col1\" class=\"data row1 col1\" >ahvtwyhuer-cpf</td> \n",
       "        <td id=\"T_8e5bbd4a_fe60_11e8_b230_74d435fe045brow1_col2\" class=\"data row1 col2\" >gtzwr-nome</td> \n",
       "    </tr>    <tr> \n",
       "        <th id=\"T_8e5bbd4a_fe60_11e8_b230_74d435fe045blevel0_row2\" class=\"row_heading level0 row2\" >2</th> \n",
       "        <td id=\"T_8e5bbd4a_fe60_11e8_b230_74d435fe045brow2_col0\" class=\"data row2 col0\" >3</td> \n",
       "        <td id=\"T_8e5bbd4a_fe60_11e8_b230_74d435fe045brow2_col1\" class=\"data row2 col1\" >ljosbaowxp-cpf</td> \n",
       "        <td id=\"T_8e5bbd4a_fe60_11e8_b230_74d435fe045brow2_col2\" class=\"data row2 col2\" >bkkya-nome</td> \n",
       "    </tr>    <tr> \n",
       "        <th id=\"T_8e5bbd4a_fe60_11e8_b230_74d435fe045blevel0_row3\" class=\"row_heading level0 row3\" >3</th> \n",
       "        <td id=\"T_8e5bbd4a_fe60_11e8_b230_74d435fe045brow3_col0\" class=\"data row3 col0\" >4</td> \n",
       "        <td id=\"T_8e5bbd4a_fe60_11e8_b230_74d435fe045brow3_col1\" class=\"data row3 col1\" >qwquhxerje-cpf</td> \n",
       "        <td id=\"T_8e5bbd4a_fe60_11e8_b230_74d435fe045brow3_col2\" class=\"data row3 col2\" >ttzul-nome</td> \n",
       "    </tr>    <tr> \n",
       "        <th id=\"T_8e5bbd4a_fe60_11e8_b230_74d435fe045blevel0_row4\" class=\"row_heading level0 row4\" >4</th> \n",
       "        <td id=\"T_8e5bbd4a_fe60_11e8_b230_74d435fe045brow4_col0\" class=\"data row4 col0\" >5</td> \n",
       "        <td id=\"T_8e5bbd4a_fe60_11e8_b230_74d435fe045brow4_col1\" class=\"data row4 col1\" >stymfuduai-cpf</td> \n",
       "        <td id=\"T_8e5bbd4a_fe60_11e8_b230_74d435fe045brow4_col2\" class=\"data row4 col2\" >jhwbv-nome</td> \n",
       "    </tr>    <tr> \n",
       "        <th id=\"T_8e5bbd4a_fe60_11e8_b230_74d435fe045blevel0_row5\" class=\"row_heading level0 row5\" >5</th> \n",
       "        <td id=\"T_8e5bbd4a_fe60_11e8_b230_74d435fe045brow5_col0\" class=\"data row5 col0\" >6</td> \n",
       "        <td id=\"T_8e5bbd4a_fe60_11e8_b230_74d435fe045brow5_col1\" class=\"data row5 col1\" >ftydqpatik-cpf</td> \n",
       "        <td id=\"T_8e5bbd4a_fe60_11e8_b230_74d435fe045brow5_col2\" class=\"data row5 col2\" >bupcy-nome</td> \n",
       "    </tr>    <tr> \n",
       "        <th id=\"T_8e5bbd4a_fe60_11e8_b230_74d435fe045blevel0_row6\" class=\"row_heading level0 row6\" >6</th> \n",
       "        <td id=\"T_8e5bbd4a_fe60_11e8_b230_74d435fe045brow6_col0\" class=\"data row6 col0\" >7</td> \n",
       "        <td id=\"T_8e5bbd4a_fe60_11e8_b230_74d435fe045brow6_col1\" class=\"data row6 col1\" >pskdlwsayg-cpf</td> \n",
       "        <td id=\"T_8e5bbd4a_fe60_11e8_b230_74d435fe045brow6_col2\" class=\"data row6 col2\" >chelf-nome</td> \n",
       "    </tr>    <tr> \n",
       "        <th id=\"T_8e5bbd4a_fe60_11e8_b230_74d435fe045blevel0_row7\" class=\"row_heading level0 row7\" >7</th> \n",
       "        <td id=\"T_8e5bbd4a_fe60_11e8_b230_74d435fe045brow7_col0\" class=\"data row7 col0\" >8</td> \n",
       "        <td id=\"T_8e5bbd4a_fe60_11e8_b230_74d435fe045brow7_col1\" class=\"data row7 col1\" >quiyncwqke-cpf</td> \n",
       "        <td id=\"T_8e5bbd4a_fe60_11e8_b230_74d435fe045brow7_col2\" class=\"data row7 col2\" >xqutz-nome</td> \n",
       "    </tr>    <tr> \n",
       "        <th id=\"T_8e5bbd4a_fe60_11e8_b230_74d435fe045blevel0_row8\" class=\"row_heading level0 row8\" >8</th> \n",
       "        <td id=\"T_8e5bbd4a_fe60_11e8_b230_74d435fe045brow8_col0\" class=\"data row8 col0\" >9</td> \n",
       "        <td id=\"T_8e5bbd4a_fe60_11e8_b230_74d435fe045brow8_col1\" class=\"data row8 col1\" >xekrrqbtgm-cpf</td> \n",
       "        <td id=\"T_8e5bbd4a_fe60_11e8_b230_74d435fe045brow8_col2\" class=\"data row8 col2\" >gwulx-nome</td> \n",
       "    </tr>    <tr> \n",
       "        <th id=\"T_8e5bbd4a_fe60_11e8_b230_74d435fe045blevel0_row9\" class=\"row_heading level0 row9\" >9</th> \n",
       "        <td id=\"T_8e5bbd4a_fe60_11e8_b230_74d435fe045brow9_col0\" class=\"data row9 col0\" >10</td> \n",
       "        <td id=\"T_8e5bbd4a_fe60_11e8_b230_74d435fe045brow9_col1\" class=\"data row9 col1\" >vvfsikduhz-cpf</td> \n",
       "        <td id=\"T_8e5bbd4a_fe60_11e8_b230_74d435fe045brow9_col2\" class=\"data row9 col2\" >gffnm-nome</td> \n",
       "    </tr></tbody> \n",
       "</table> "
      ],
      "text/plain": [
       "<pandas.io.formats.style.Styler at 0x198dff71b00>"
      ]
     },
     "execution_count": 19,
     "metadata": {},
     "output_type": "execute_result"
    }
   ],
   "source": [
    "df = pd.DataFrame(result)\n",
    "cm = sns.light_palette(\"green\", as_cmap=True)\n",
    "df.style.background_gradient(cmap=cm)\n"
   ]
  },
  {
   "cell_type": "markdown",
   "metadata": {},
   "source": [
    "Podemos também utilizar o matplotlib que é instalado por padrão com o seaborn"
   ]
  },
  {
   "cell_type": "code",
   "execution_count": null,
   "metadata": {},
   "outputs": [],
   "source": []
  },
  {
   "cell_type": "code",
   "execution_count": null,
   "metadata": {},
   "outputs": [],
   "source": []
  },
  {
   "cell_type": "markdown",
   "metadata": {},
   "source": [
    "References"
   ]
  },
  {
   "cell_type": "markdown",
   "metadata": {},
   "source": [
    "## Relatório 3"
   ]
  },
  {
   "cell_type": "markdown",
   "metadata": {},
   "source": [
    "### VIEW ESTACIONAMENTO \n",
    "Objetivo: tem o objetivo de procurar um cliente pelo cnpj e mostrar todas as informações relacionadas ao estacionamento que são importantes "
   ]
  },
  {
   "cell_type": "markdown",
   "metadata": {},
   "source": [
    "codigo para obtenção do resultado:"
   ]
  },
  {
   "cell_type": "code",
   "execution_count": 20,
   "metadata": {},
   "outputs": [],
   "source": [
    "result = pd.read_sql_query(\"\"\" \n",
    "select e.id, e.nome, e.latitude, e.longitude, e.valorhora, en.rua, b.bairro, cid.cidade, pes.cnpj, pes.nome as nome_pes from estacionamento as e\n",
    "inner join endereco as en on e.id = en.id\n",
    "inner join bairro as b on en.fk_bairro_id = b.id\n",
    "inner join cidade as cid on b.fk_cidade_id = cid.id\n",
    "inner join estado as est on cid.fk_estado_id = est.id\n",
    "inner join pessoa_juridica_info as pes on e.fk_pessoa_juridica_id = pes.id\n",
    "where pes.cnpj = 'pzpnd-cnpj';\n",
    "                            \"\"\",conn)"
   ]
  },
  {
   "cell_type": "code",
   "execution_count": 21,
   "metadata": {
    "scrolled": true
   },
   "outputs": [
    {
     "data": {
      "text/html": [
       "<div>\n",
       "<style scoped>\n",
       "    .dataframe tbody tr th:only-of-type {\n",
       "        vertical-align: middle;\n",
       "    }\n",
       "\n",
       "    .dataframe tbody tr th {\n",
       "        vertical-align: top;\n",
       "    }\n",
       "\n",
       "    .dataframe thead th {\n",
       "        text-align: right;\n",
       "    }\n",
       "</style>\n",
       "<table border=\"1\" class=\"dataframe\">\n",
       "  <thead>\n",
       "    <tr style=\"text-align: right;\">\n",
       "      <th></th>\n",
       "      <th>id</th>\n",
       "      <th>nome</th>\n",
       "      <th>latitude</th>\n",
       "      <th>longitude</th>\n",
       "      <th>valorhora</th>\n",
       "      <th>rua</th>\n",
       "      <th>bairro</th>\n",
       "      <th>cidade</th>\n",
       "      <th>cnpj</th>\n",
       "      <th>nome_pes</th>\n",
       "    </tr>\n",
       "  </thead>\n",
       "  <tbody>\n",
       "    <tr>\n",
       "      <th>0</th>\n",
       "      <td>148</td>\n",
       "      <td>evvny-nome</td>\n",
       "      <td>2.25</td>\n",
       "      <td>58.72</td>\n",
       "      <td>23.93</td>\n",
       "      <td>zcqpt-rua</td>\n",
       "      <td>xcpbs-bairro</td>\n",
       "      <td>mlbmt-cidade</td>\n",
       "      <td>pzpnd-cnpj</td>\n",
       "      <td>fazfz-nome</td>\n",
       "    </tr>\n",
       "    <tr>\n",
       "      <th>1</th>\n",
       "      <td>571</td>\n",
       "      <td>gbsnx-nome</td>\n",
       "      <td>37.86</td>\n",
       "      <td>48.29</td>\n",
       "      <td>25.85</td>\n",
       "      <td>dopwl-rua</td>\n",
       "      <td>pycpu-bairro</td>\n",
       "      <td>rewno-cidade</td>\n",
       "      <td>pzpnd-cnpj</td>\n",
       "      <td>fazfz-nome</td>\n",
       "    </tr>\n",
       "    <tr>\n",
       "      <th>2</th>\n",
       "      <td>877</td>\n",
       "      <td>mgxhc-nome</td>\n",
       "      <td>98.02</td>\n",
       "      <td>19.41</td>\n",
       "      <td>6.77</td>\n",
       "      <td>yxrpg-rua</td>\n",
       "      <td>wekal-bairro</td>\n",
       "      <td>qbkoo-cidade</td>\n",
       "      <td>pzpnd-cnpj</td>\n",
       "      <td>fazfz-nome</td>\n",
       "    </tr>\n",
       "    <tr>\n",
       "      <th>3</th>\n",
       "      <td>908</td>\n",
       "      <td>hixlm-nome</td>\n",
       "      <td>29.57</td>\n",
       "      <td>35.39</td>\n",
       "      <td>27.72</td>\n",
       "      <td>ojdgu-rua</td>\n",
       "      <td>mmcqx-bairro</td>\n",
       "      <td>kxlye-cidade</td>\n",
       "      <td>pzpnd-cnpj</td>\n",
       "      <td>fazfz-nome</td>\n",
       "    </tr>\n",
       "    <tr>\n",
       "      <th>4</th>\n",
       "      <td>978</td>\n",
       "      <td>hzdtk-nome</td>\n",
       "      <td>99.17</td>\n",
       "      <td>10.25</td>\n",
       "      <td>24.08</td>\n",
       "      <td>vvlvq-rua</td>\n",
       "      <td>vdtwk-bairro</td>\n",
       "      <td>zfopw-cidade</td>\n",
       "      <td>pzpnd-cnpj</td>\n",
       "      <td>fazfz-nome</td>\n",
       "    </tr>\n",
       "  </tbody>\n",
       "</table>\n",
       "</div>"
      ],
      "text/plain": [
       "    id        nome latitude longitude  valorhora        rua        bairro  \\\n",
       "0  148  evvny-nome     2.25     58.72      23.93  zcqpt-rua  xcpbs-bairro   \n",
       "1  571  gbsnx-nome    37.86     48.29      25.85  dopwl-rua  pycpu-bairro   \n",
       "2  877  mgxhc-nome    98.02     19.41       6.77  yxrpg-rua  wekal-bairro   \n",
       "3  908  hixlm-nome    29.57     35.39      27.72  ojdgu-rua  mmcqx-bairro   \n",
       "4  978  hzdtk-nome    99.17     10.25      24.08  vvlvq-rua  vdtwk-bairro   \n",
       "\n",
       "         cidade        cnpj    nome_pes  \n",
       "0  mlbmt-cidade  pzpnd-cnpj  fazfz-nome  \n",
       "1  rewno-cidade  pzpnd-cnpj  fazfz-nome  \n",
       "2  qbkoo-cidade  pzpnd-cnpj  fazfz-nome  \n",
       "3  kxlye-cidade  pzpnd-cnpj  fazfz-nome  \n",
       "4  zfopw-cidade  pzpnd-cnpj  fazfz-nome  "
      ]
     },
     "execution_count": 21,
     "metadata": {},
     "output_type": "execute_result"
    }
   ],
   "source": [
    "result"
   ]
  },
  {
   "cell_type": "markdown",
   "metadata": {},
   "source": [
    "## Relatório 4"
   ]
  },
  {
   "cell_type": "markdown",
   "metadata": {},
   "source": [
    "### VIEW ESTACIONAMENTO VALOR\n",
    "tem o objetivo de procurar um cliente pelo cnpj e mostrar todas as informações relacionadas ao estacionamento que possuem um valor hora maior do que e que são importantes para o cliente"
   ]
  },
  {
   "cell_type": "markdown",
   "metadata": {},
   "source": [
    "codigo para obtenção do resultado:"
   ]
  },
  {
   "cell_type": "code",
   "execution_count": 22,
   "metadata": {},
   "outputs": [],
   "source": [
    "result = pd.read_sql_query(\"\"\"\n",
    "                            select e.id, e.nome, e.latitude, e.longitude, e.valorhora, en.rua, b.bairro, cid.cidade, pes.cnpj, pes.nome as nome_pes from estacionamento as e\n",
    "inner join endereco as en on e.id = en.id\n",
    "inner join bairro as b on en.fk_bairro_id = b.id\n",
    "inner join cidade as cid on b.fk_cidade_id = cid.id\n",
    "inner join estado as est on cid.fk_estado_id = est.id\n",
    "inner join pessoa_juridica_info as pes on e.fk_pessoa_juridica_id = pes.id\n",
    "where pes.cnpj = 'pzpnd-cnpj' and\n",
    "e.valorhora > 20;;\n",
    "                            \"\"\",conn)"
   ]
  },
  {
   "cell_type": "code",
   "execution_count": 23,
   "metadata": {
    "scrolled": false
   },
   "outputs": [
    {
     "data": {
      "text/html": [
       "<div>\n",
       "<style scoped>\n",
       "    .dataframe tbody tr th:only-of-type {\n",
       "        vertical-align: middle;\n",
       "    }\n",
       "\n",
       "    .dataframe tbody tr th {\n",
       "        vertical-align: top;\n",
       "    }\n",
       "\n",
       "    .dataframe thead th {\n",
       "        text-align: right;\n",
       "    }\n",
       "</style>\n",
       "<table border=\"1\" class=\"dataframe\">\n",
       "  <thead>\n",
       "    <tr style=\"text-align: right;\">\n",
       "      <th></th>\n",
       "      <th>id</th>\n",
       "      <th>nome</th>\n",
       "      <th>latitude</th>\n",
       "      <th>longitude</th>\n",
       "      <th>valorhora</th>\n",
       "      <th>rua</th>\n",
       "      <th>bairro</th>\n",
       "      <th>cidade</th>\n",
       "      <th>cnpj</th>\n",
       "      <th>nome_pes</th>\n",
       "    </tr>\n",
       "  </thead>\n",
       "  <tbody>\n",
       "    <tr>\n",
       "      <th>0</th>\n",
       "      <td>148</td>\n",
       "      <td>evvny-nome</td>\n",
       "      <td>2.25</td>\n",
       "      <td>58.72</td>\n",
       "      <td>23.93</td>\n",
       "      <td>zcqpt-rua</td>\n",
       "      <td>xcpbs-bairro</td>\n",
       "      <td>mlbmt-cidade</td>\n",
       "      <td>pzpnd-cnpj</td>\n",
       "      <td>fazfz-nome</td>\n",
       "    </tr>\n",
       "    <tr>\n",
       "      <th>1</th>\n",
       "      <td>571</td>\n",
       "      <td>gbsnx-nome</td>\n",
       "      <td>37.86</td>\n",
       "      <td>48.29</td>\n",
       "      <td>25.85</td>\n",
       "      <td>dopwl-rua</td>\n",
       "      <td>pycpu-bairro</td>\n",
       "      <td>rewno-cidade</td>\n",
       "      <td>pzpnd-cnpj</td>\n",
       "      <td>fazfz-nome</td>\n",
       "    </tr>\n",
       "    <tr>\n",
       "      <th>2</th>\n",
       "      <td>908</td>\n",
       "      <td>hixlm-nome</td>\n",
       "      <td>29.57</td>\n",
       "      <td>35.39</td>\n",
       "      <td>27.72</td>\n",
       "      <td>ojdgu-rua</td>\n",
       "      <td>mmcqx-bairro</td>\n",
       "      <td>kxlye-cidade</td>\n",
       "      <td>pzpnd-cnpj</td>\n",
       "      <td>fazfz-nome</td>\n",
       "    </tr>\n",
       "    <tr>\n",
       "      <th>3</th>\n",
       "      <td>978</td>\n",
       "      <td>hzdtk-nome</td>\n",
       "      <td>99.17</td>\n",
       "      <td>10.25</td>\n",
       "      <td>24.08</td>\n",
       "      <td>vvlvq-rua</td>\n",
       "      <td>vdtwk-bairro</td>\n",
       "      <td>zfopw-cidade</td>\n",
       "      <td>pzpnd-cnpj</td>\n",
       "      <td>fazfz-nome</td>\n",
       "    </tr>\n",
       "  </tbody>\n",
       "</table>\n",
       "</div>"
      ],
      "text/plain": [
       "    id        nome latitude longitude  valorhora        rua        bairro  \\\n",
       "0  148  evvny-nome     2.25     58.72      23.93  zcqpt-rua  xcpbs-bairro   \n",
       "1  571  gbsnx-nome    37.86     48.29      25.85  dopwl-rua  pycpu-bairro   \n",
       "2  908  hixlm-nome    29.57     35.39      27.72  ojdgu-rua  mmcqx-bairro   \n",
       "3  978  hzdtk-nome    99.17     10.25      24.08  vvlvq-rua  vdtwk-bairro   \n",
       "\n",
       "         cidade        cnpj    nome_pes  \n",
       "0  mlbmt-cidade  pzpnd-cnpj  fazfz-nome  \n",
       "1  rewno-cidade  pzpnd-cnpj  fazfz-nome  \n",
       "2  kxlye-cidade  pzpnd-cnpj  fazfz-nome  \n",
       "3  zfopw-cidade  pzpnd-cnpj  fazfz-nome  "
      ]
     },
     "execution_count": 23,
     "metadata": {},
     "output_type": "execute_result"
    }
   ],
   "source": [
    "result"
   ]
  },
  {
   "cell_type": "markdown",
   "metadata": {},
   "source": [
    "### VIEW PAGAMENTO\n",
    "tem o objetivo de mostrar as informações relacionadas as reservas e pagamentos de uma vaga entre duas datas"
   ]
  },
  {
   "cell_type": "markdown",
   "metadata": {},
   "source": [
    "codigo para obtenção do resultado:"
   ]
  },
  {
   "cell_type": "code",
   "execution_count": 24,
   "metadata": {},
   "outputs": [],
   "source": [
    "result = pd.read_sql_query(\"\"\"\n",
    "                            select pag.data, pag.valor, res.horaReserva, res.dataReserva, res.horaSaida, res.saidaPrevista, veic.placa, mot.cnh from\n",
    "pagamento_estacionamento as pag inner join reserva as res on res.fk_pagamento_estacionamento_id = pag.id\n",
    "inner join veiculo as veic on res.fk_veiculo_id = veic.id\n",
    "inner join motorista as mot on veic.fk_motorista_id = mot.id\n",
    "where pag.data > '1980-01-01' and\n",
    "pag.data < '2000-01-01' limit 11;\n",
    "                            \"\"\",conn)"
   ]
  },
  {
   "cell_type": "code",
   "execution_count": 25,
   "metadata": {},
   "outputs": [
    {
     "data": {
      "text/html": [
       "<div>\n",
       "<style scoped>\n",
       "    .dataframe tbody tr th:only-of-type {\n",
       "        vertical-align: middle;\n",
       "    }\n",
       "\n",
       "    .dataframe tbody tr th {\n",
       "        vertical-align: top;\n",
       "    }\n",
       "\n",
       "    .dataframe thead th {\n",
       "        text-align: right;\n",
       "    }\n",
       "</style>\n",
       "<table border=\"1\" class=\"dataframe\">\n",
       "  <thead>\n",
       "    <tr style=\"text-align: right;\">\n",
       "      <th></th>\n",
       "      <th>data</th>\n",
       "      <th>valor</th>\n",
       "      <th>horareserva</th>\n",
       "      <th>datareserva</th>\n",
       "      <th>horasaida</th>\n",
       "      <th>saidaprevista</th>\n",
       "      <th>placa</th>\n",
       "      <th>cnh</th>\n",
       "    </tr>\n",
       "  </thead>\n",
       "  <tbody>\n",
       "    <tr>\n",
       "      <th>0</th>\n",
       "      <td>1986-12-29</td>\n",
       "      <td>17.64</td>\n",
       "      <td>15:17:02</td>\n",
       "      <td>1970-03-02</td>\n",
       "      <td>07:05:52</td>\n",
       "      <td>23:48:47</td>\n",
       "      <td>aa-placa</td>\n",
       "      <td>mzylxmn-cnh</td>\n",
       "    </tr>\n",
       "    <tr>\n",
       "      <th>1</th>\n",
       "      <td>1982-06-23</td>\n",
       "      <td>62.88</td>\n",
       "      <td>10:14:24</td>\n",
       "      <td>1986-09-10</td>\n",
       "      <td>23:07:43</td>\n",
       "      <td>10:43:40</td>\n",
       "      <td>ri-placa</td>\n",
       "      <td>vxvuuoq-cnh</td>\n",
       "    </tr>\n",
       "    <tr>\n",
       "      <th>2</th>\n",
       "      <td>1982-10-02</td>\n",
       "      <td>29.73</td>\n",
       "      <td>01:00:19</td>\n",
       "      <td>1974-07-02</td>\n",
       "      <td>23:14:59</td>\n",
       "      <td>15:44:40</td>\n",
       "      <td>xx-placa</td>\n",
       "      <td>chexrzc-cnh</td>\n",
       "    </tr>\n",
       "    <tr>\n",
       "      <th>3</th>\n",
       "      <td>1982-05-31</td>\n",
       "      <td>93.37</td>\n",
       "      <td>07:35:56</td>\n",
       "      <td>1958-04-20</td>\n",
       "      <td>06:54:10</td>\n",
       "      <td>11:09:25</td>\n",
       "      <td>fl-placa</td>\n",
       "      <td>debwoep-cnh</td>\n",
       "    </tr>\n",
       "    <tr>\n",
       "      <th>4</th>\n",
       "      <td>1986-07-03</td>\n",
       "      <td>84.66</td>\n",
       "      <td>03:40:30</td>\n",
       "      <td>1950-07-31</td>\n",
       "      <td>17:09:27</td>\n",
       "      <td>02:32:00</td>\n",
       "      <td>gk-placa</td>\n",
       "      <td>hitbkhf-cnh</td>\n",
       "    </tr>\n",
       "    <tr>\n",
       "      <th>5</th>\n",
       "      <td>1986-04-28</td>\n",
       "      <td>2.47</td>\n",
       "      <td>07:26:09</td>\n",
       "      <td>1990-10-02</td>\n",
       "      <td>02:35:17</td>\n",
       "      <td>12:20:19</td>\n",
       "      <td>iq-placa</td>\n",
       "      <td>tvezics-cnh</td>\n",
       "    </tr>\n",
       "    <tr>\n",
       "      <th>6</th>\n",
       "      <td>1990-02-17</td>\n",
       "      <td>12.27</td>\n",
       "      <td>14:30:02</td>\n",
       "      <td>1982-10-08</td>\n",
       "      <td>12:52:37</td>\n",
       "      <td>11:50:33</td>\n",
       "      <td>tb-placa</td>\n",
       "      <td>rqceffl-cnh</td>\n",
       "    </tr>\n",
       "    <tr>\n",
       "      <th>7</th>\n",
       "      <td>1986-04-26</td>\n",
       "      <td>58.88</td>\n",
       "      <td>06:15:35</td>\n",
       "      <td>1954-10-26</td>\n",
       "      <td>05:11:06</td>\n",
       "      <td>03:18:28</td>\n",
       "      <td>bg-placa</td>\n",
       "      <td>nkiqdqa-cnh</td>\n",
       "    </tr>\n",
       "    <tr>\n",
       "      <th>8</th>\n",
       "      <td>1982-10-22</td>\n",
       "      <td>93.93</td>\n",
       "      <td>05:17:19</td>\n",
       "      <td>1982-04-20</td>\n",
       "      <td>19:03:43</td>\n",
       "      <td>17:55:57</td>\n",
       "      <td>bj-placa</td>\n",
       "      <td>umvjzdv-cnh</td>\n",
       "    </tr>\n",
       "    <tr>\n",
       "      <th>9</th>\n",
       "      <td>1986-11-15</td>\n",
       "      <td>45.80</td>\n",
       "      <td>07:20:41</td>\n",
       "      <td>1974-04-08</td>\n",
       "      <td>16:58:05</td>\n",
       "      <td>19:05:47</td>\n",
       "      <td>zx-placa</td>\n",
       "      <td>pmvgsrg-cnh</td>\n",
       "    </tr>\n",
       "    <tr>\n",
       "      <th>10</th>\n",
       "      <td>1990-05-08</td>\n",
       "      <td>37.57</td>\n",
       "      <td>15:08:00</td>\n",
       "      <td>1970-02-08</td>\n",
       "      <td>21:16:15</td>\n",
       "      <td>12:01:26</td>\n",
       "      <td>la-placa</td>\n",
       "      <td>qfapvvw-cnh</td>\n",
       "    </tr>\n",
       "  </tbody>\n",
       "</table>\n",
       "</div>"
      ],
      "text/plain": [
       "          data  valor horareserva datareserva horasaida saidaprevista  \\\n",
       "0   1986-12-29  17.64    15:17:02  1970-03-02  07:05:52      23:48:47   \n",
       "1   1982-06-23  62.88    10:14:24  1986-09-10  23:07:43      10:43:40   \n",
       "2   1982-10-02  29.73    01:00:19  1974-07-02  23:14:59      15:44:40   \n",
       "3   1982-05-31  93.37    07:35:56  1958-04-20  06:54:10      11:09:25   \n",
       "4   1986-07-03  84.66    03:40:30  1950-07-31  17:09:27      02:32:00   \n",
       "5   1986-04-28   2.47    07:26:09  1990-10-02  02:35:17      12:20:19   \n",
       "6   1990-02-17  12.27    14:30:02  1982-10-08  12:52:37      11:50:33   \n",
       "7   1986-04-26  58.88    06:15:35  1954-10-26  05:11:06      03:18:28   \n",
       "8   1982-10-22  93.93    05:17:19  1982-04-20  19:03:43      17:55:57   \n",
       "9   1986-11-15  45.80    07:20:41  1974-04-08  16:58:05      19:05:47   \n",
       "10  1990-05-08  37.57    15:08:00  1970-02-08  21:16:15      12:01:26   \n",
       "\n",
       "       placa          cnh  \n",
       "0   aa-placa  mzylxmn-cnh  \n",
       "1   ri-placa  vxvuuoq-cnh  \n",
       "2   xx-placa  chexrzc-cnh  \n",
       "3   fl-placa  debwoep-cnh  \n",
       "4   gk-placa  hitbkhf-cnh  \n",
       "5   iq-placa  tvezics-cnh  \n",
       "6   tb-placa  rqceffl-cnh  \n",
       "7   bg-placa  nkiqdqa-cnh  \n",
       "8   bj-placa  umvjzdv-cnh  \n",
       "9   zx-placa  pmvgsrg-cnh  \n",
       "10  la-placa  qfapvvw-cnh  "
      ]
     },
     "execution_count": 25,
     "metadata": {},
     "output_type": "execute_result"
    }
   ],
   "source": [
    "result"
   ]
  },
  {
   "cell_type": "markdown",
   "metadata": {},
   "source": [
    "### QUANTIDADE DE RESERVAS POR PERIODO\n",
    "Um select que gera relatório de quantas reservas foram feitas em um determinado período de hora. Como exemplo temos um período entre as 6-18hrs em uma coluna, e o resto das reservas na segunda coluna.\n",
    "É uma análise útil para saber os tempos de pico, maior e menor movimentação, ajudando no planejamento do negócio."
   ]
  },
  {
   "cell_type": "code",
   "execution_count": 26,
   "metadata": {},
   "outputs": [],
   "source": [
    "result = pd.read_sql_query(\"\"\"\n",
    "                            select \n",
    "\t(case\n",
    "\t\twhen horareserva between '06:00:00' and '18:00:00' then 'DIA'\n",
    "\t\telse 'NOITE' end) as periodo,\n",
    "\t\tcount(*)\n",
    "from reserva\n",
    "group by periodo;\n",
    "                            \"\"\",conn)"
   ]
  },
  {
   "cell_type": "code",
   "execution_count": 27,
   "metadata": {
    "scrolled": true
   },
   "outputs": [
    {
     "data": {
      "text/plain": [
       "<matplotlib.axes._subplots.AxesSubplot at 0x198dffb1e48>"
      ]
     },
     "execution_count": 27,
     "metadata": {},
     "output_type": "execute_result"
    },
    {
     "data": {
      "image/png": "[encoded data removed]",
      "text/plain": [
       "<Figure size 720x360 with 1 Axes>"
      ]
     },
     "metadata": {
      "needs_background": "light"
     },
     "output_type": "display_data"
    }
   ],
   "source": [
    "result.plot(kind='bar', x='periodo', figsize=(10,5))"
   ]
  },
  {
   "cell_type": "markdown",
   "metadata": {},
   "source": [
    "### PAGAMENTO ENTRE AS FAIXAS 0-50 E 50+\n",
    "Um select que gera um relatório de valores de pagamento. No exemplo a seguir temos uma coluna com os pagamentos até 50 reais e na segunda coluna temos os pagamentos de 50 até 100 reais.\n",
    "\n",
    "Tal relatório é útil para se ter uma ideia dos valores que os clientes estão pagando, ter uma ideia melhor dos preços dos estacionamentos, e poder também fazer análises estatístias."
   ]
  },
  {
   "cell_type": "code",
   "execution_count": 28,
   "metadata": {},
   "outputs": [],
   "source": [
    "result = pd.read_sql_query(\"\"\"\n",
    "                            select\n",
    "\t(case\n",
    "\t\twhen valor between 0.00 and 50.00 then 'valor_1'\n",
    "\t \twhen valor between 50.01 and 100.00 then 'valor_2' end) as faixa,\n",
    "\tcount(*)\n",
    "from pagamento_info\n",
    "group by faixa;\n",
    "                            \"\"\",conn)"
   ]
  },
  {
   "cell_type": "code",
   "execution_count": 29,
   "metadata": {},
   "outputs": [
    {
     "data": {
      "text/html": [
       "<div>\n",
       "<style scoped>\n",
       "    .dataframe tbody tr th:only-of-type {\n",
       "        vertical-align: middle;\n",
       "    }\n",
       "\n",
       "    .dataframe tbody tr th {\n",
       "        vertical-align: top;\n",
       "    }\n",
       "\n",
       "    .dataframe thead th {\n",
       "        text-align: right;\n",
       "    }\n",
       "</style>\n",
       "<table border=\"1\" class=\"dataframe\">\n",
       "  <thead>\n",
       "    <tr style=\"text-align: right;\">\n",
       "      <th></th>\n",
       "      <th>faixa</th>\n",
       "      <th>count</th>\n",
       "    </tr>\n",
       "  </thead>\n",
       "  <tbody>\n",
       "    <tr>\n",
       "      <th>0</th>\n",
       "      <td>valor_1</td>\n",
       "      <td>184217</td>\n",
       "    </tr>\n",
       "    <tr>\n",
       "      <th>1</th>\n",
       "      <td>valor_2</td>\n",
       "      <td>190710</td>\n",
       "    </tr>\n",
       "  </tbody>\n",
       "</table>\n",
       "</div>"
      ],
      "text/plain": [
       "     faixa   count\n",
       "0  valor_1  184217\n",
       "1  valor_2  190710"
      ]
     },
     "execution_count": 29,
     "metadata": {},
     "output_type": "execute_result"
    }
   ],
   "source": [
    "result"
   ]
  },
  {
   "cell_type": "code",
   "execution_count": 30,
   "metadata": {},
   "outputs": [
    {
     "data": {
      "text/plain": [
       "<matplotlib.axes._subplots.AxesSubplot at 0x198e00cd208>"
      ]
     },
     "execution_count": 30,
     "metadata": {},
     "output_type": "execute_result"
    },
    {
     "data": {
      "image/png": "[encoded data removed]",
      "text/plain": [
       "<Figure size 360x360 with 1 Axes>"
      ]
     },
     "metadata": {},
     "output_type": "display_data"
    }
   ],
   "source": [
    "result.plot.pie(x='faixa', y='count', figsize=(5,5))"
   ]
  },
  {
   "cell_type": "code",
   "execution_count": 31,
   "metadata": {},
   "outputs": [
    {
     "data": {
      "text/plain": [
       "<matplotlib.axes._subplots.AxesSubplot at 0x198e03f16d8>"
      ]
     },
     "execution_count": 31,
     "metadata": {},
     "output_type": "execute_result"
    },
    {
     "data": {
      "image/png": "[encoded data removed]",
      "text/plain": [
       "<Figure size 360x360 with 1 Axes>"
      ]
     },
     "metadata": {
      "needs_background": "light"
     },
     "output_type": "display_data"
    }
   ],
   "source": [
    "result.plot(kind='bar', x='faixa', y='count', figsize=(5,5))"
   ]
  },
  {
   "cell_type": "markdown",
   "metadata": {},
   "source": [
    "### VIEW FUNCIONÁRIO\n",
    "Essa view demonstra, à partir do id, as informações de um funcionário: cargo, nome, matricula, nome da empresa e o cpnj dela.\n",
    "Assim, podemos ver quantos e quais funcionários cada empresa possui."
   ]
  },
  {
   "cell_type": "code",
   "execution_count": 32,
   "metadata": {},
   "outputs": [],
   "source": [
    "result = pd.read_sql_query(\"\"\"\n",
    "select p.nome, f.matricula, c.nome as cargo, pj.nome as empresa_nome, pj.cnpj as empresa_cnpj\n",
    "from pessoa_fisica_info as p inner join funcionario as f\n",
    "on f.fk_pessoa_fisica_id = p.id \n",
    "inner join cargo as c\n",
    "on f.fk_cargo_id = c.id \n",
    "inner join pessoa_juridica_info as pj\n",
    "on f.fk_pessoa_juridica_id = pj.id;\n",
    "                            \"\"\",conn)"
   ]
  },
  {
   "cell_type": "code",
   "execution_count": 33,
   "metadata": {},
   "outputs": [
    {
     "data": {
      "text/html": [
       "<div>\n",
       "<style scoped>\n",
       "    .dataframe tbody tr th:only-of-type {\n",
       "        vertical-align: middle;\n",
       "    }\n",
       "\n",
       "    .dataframe tbody tr th {\n",
       "        vertical-align: top;\n",
       "    }\n",
       "\n",
       "    .dataframe thead th {\n",
       "        text-align: right;\n",
       "    }\n",
       "</style>\n",
       "<table border=\"1\" class=\"dataframe\">\n",
       "  <thead>\n",
       "    <tr style=\"text-align: right;\">\n",
       "      <th></th>\n",
       "      <th>nome</th>\n",
       "      <th>matricula</th>\n",
       "      <th>cargo</th>\n",
       "      <th>empresa_nome</th>\n",
       "      <th>empresa_cnpj</th>\n",
       "    </tr>\n",
       "  </thead>\n",
       "  <tbody>\n",
       "    <tr>\n",
       "      <th>0</th>\n",
       "      <td>kbylm-nome</td>\n",
       "      <td>huglc-matricula</td>\n",
       "      <td>cargo1</td>\n",
       "      <td>ujkpu-nome</td>\n",
       "      <td>gdasf-cnpj</td>\n",
       "    </tr>\n",
       "    <tr>\n",
       "      <th>1</th>\n",
       "      <td>nazpr-nome</td>\n",
       "      <td>cqesk-matricula</td>\n",
       "      <td>cargo2</td>\n",
       "      <td>ujkpu-nome</td>\n",
       "      <td>gdasf-cnpj</td>\n",
       "    </tr>\n",
       "    <tr>\n",
       "      <th>2</th>\n",
       "      <td>nppmy-nome</td>\n",
       "      <td>bdmow-matricula</td>\n",
       "      <td>cargo1</td>\n",
       "      <td>oitep-nome</td>\n",
       "      <td>spjes-cnpj</td>\n",
       "    </tr>\n",
       "    <tr>\n",
       "      <th>3</th>\n",
       "      <td>bybrk-nome</td>\n",
       "      <td>tqwqf-matricula</td>\n",
       "      <td>cargo3</td>\n",
       "      <td>oitep-nome</td>\n",
       "      <td>spjes-cnpj</td>\n",
       "    </tr>\n",
       "    <tr>\n",
       "      <th>4</th>\n",
       "      <td>ywrzp-nome</td>\n",
       "      <td>upclv-matricula</td>\n",
       "      <td>cargo2</td>\n",
       "      <td>oitep-nome</td>\n",
       "      <td>spjes-cnpj</td>\n",
       "    </tr>\n",
       "    <tr>\n",
       "      <th>5</th>\n",
       "      <td>pptio-nome</td>\n",
       "      <td>xspac-matricula</td>\n",
       "      <td>cargo2</td>\n",
       "      <td>tuinb-nome</td>\n",
       "      <td>metio-cnpj</td>\n",
       "    </tr>\n",
       "    <tr>\n",
       "      <th>6</th>\n",
       "      <td>qagwp-nome</td>\n",
       "      <td>czmfl-matricula</td>\n",
       "      <td>cargo3</td>\n",
       "      <td>tuinb-nome</td>\n",
       "      <td>metio-cnpj</td>\n",
       "    </tr>\n",
       "    <tr>\n",
       "      <th>7</th>\n",
       "      <td>annns-nome</td>\n",
       "      <td>mgxyn-matricula</td>\n",
       "      <td>cargo2</td>\n",
       "      <td>tuinb-nome</td>\n",
       "      <td>metio-cnpj</td>\n",
       "    </tr>\n",
       "    <tr>\n",
       "      <th>8</th>\n",
       "      <td>fuocs-nome</td>\n",
       "      <td>rotzb-matricula</td>\n",
       "      <td>cargo2</td>\n",
       "      <td>tuinb-nome</td>\n",
       "      <td>metio-cnpj</td>\n",
       "    </tr>\n",
       "    <tr>\n",
       "      <th>9</th>\n",
       "      <td>zmaxl-nome</td>\n",
       "      <td>bwjpc-matricula</td>\n",
       "      <td>cargo3</td>\n",
       "      <td>tuinb-nome</td>\n",
       "      <td>metio-cnpj</td>\n",
       "    </tr>\n",
       "    <tr>\n",
       "      <th>10</th>\n",
       "      <td>ieukh-nome</td>\n",
       "      <td>rixcj-matricula</td>\n",
       "      <td>cargo3</td>\n",
       "      <td>tuinb-nome</td>\n",
       "      <td>metio-cnpj</td>\n",
       "    </tr>\n",
       "    <tr>\n",
       "      <th>11</th>\n",
       "      <td>tcojz-nome</td>\n",
       "      <td>mugjx-matricula</td>\n",
       "      <td>cargo2</td>\n",
       "      <td>fazfz-nome</td>\n",
       "      <td>pzpnd-cnpj</td>\n",
       "    </tr>\n",
       "    <tr>\n",
       "      <th>12</th>\n",
       "      <td>figzt-nome</td>\n",
       "      <td>rmwki-matricula</td>\n",
       "      <td>cargo3</td>\n",
       "      <td>ekffb-nome</td>\n",
       "      <td>slagy-cnpj</td>\n",
       "    </tr>\n",
       "    <tr>\n",
       "      <th>13</th>\n",
       "      <td>oalzf-nome</td>\n",
       "      <td>kcoxu-matricula</td>\n",
       "      <td>cargo1</td>\n",
       "      <td>dlqvc-nome</td>\n",
       "      <td>npdte-cnpj</td>\n",
       "    </tr>\n",
       "    <tr>\n",
       "      <th>14</th>\n",
       "      <td>hxfdr-nome</td>\n",
       "      <td>xhugv-matricula</td>\n",
       "      <td>cargo3</td>\n",
       "      <td>ulnil-nome</td>\n",
       "      <td>pccqw-cnpj</td>\n",
       "    </tr>\n",
       "    <tr>\n",
       "      <th>15</th>\n",
       "      <td>etccw-nome</td>\n",
       "      <td>teyfy-matricula</td>\n",
       "      <td>cargo2</td>\n",
       "      <td>wnbxb-nome</td>\n",
       "      <td>tqybh-cnpj</td>\n",
       "    </tr>\n",
       "    <tr>\n",
       "      <th>16</th>\n",
       "      <td>xghzy-nome</td>\n",
       "      <td>xcmqx-matricula</td>\n",
       "      <td>cargo3</td>\n",
       "      <td>wnbxb-nome</td>\n",
       "      <td>tqybh-cnpj</td>\n",
       "    </tr>\n",
       "    <tr>\n",
       "      <th>17</th>\n",
       "      <td>tkuis-nome</td>\n",
       "      <td>mlkna-matricula</td>\n",
       "      <td>cargo1</td>\n",
       "      <td>wnbxb-nome</td>\n",
       "      <td>tqybh-cnpj</td>\n",
       "    </tr>\n",
       "    <tr>\n",
       "      <th>18</th>\n",
       "      <td>ckhto-nome</td>\n",
       "      <td>cuhod-matricula</td>\n",
       "      <td>cargo3</td>\n",
       "      <td>ppzda-nome</td>\n",
       "      <td>wguuv-cnpj</td>\n",
       "    </tr>\n",
       "    <tr>\n",
       "      <th>19</th>\n",
       "      <td>srrap-nome</td>\n",
       "      <td>kcyhz-matricula</td>\n",
       "      <td>cargo3</td>\n",
       "      <td>ppzda-nome</td>\n",
       "      <td>wguuv-cnpj</td>\n",
       "    </tr>\n",
       "    <tr>\n",
       "      <th>20</th>\n",
       "      <td>zyzmt-nome</td>\n",
       "      <td>gwoaa-matricula</td>\n",
       "      <td>cargo1</td>\n",
       "      <td>ppzda-nome</td>\n",
       "      <td>wguuv-cnpj</td>\n",
       "    </tr>\n",
       "    <tr>\n",
       "      <th>21</th>\n",
       "      <td>ecyna-nome</td>\n",
       "      <td>nijxt-matricula</td>\n",
       "      <td>cargo2</td>\n",
       "      <td>ppzda-nome</td>\n",
       "      <td>wguuv-cnpj</td>\n",
       "    </tr>\n",
       "    <tr>\n",
       "      <th>22</th>\n",
       "      <td>olcdx-nome</td>\n",
       "      <td>yhkmb-matricula</td>\n",
       "      <td>cargo3</td>\n",
       "      <td>ppzda-nome</td>\n",
       "      <td>wguuv-cnpj</td>\n",
       "    </tr>\n",
       "    <tr>\n",
       "      <th>23</th>\n",
       "      <td>ikitg-nome</td>\n",
       "      <td>pnbal-matricula</td>\n",
       "      <td>cargo2</td>\n",
       "      <td>ppzda-nome</td>\n",
       "      <td>wguuv-cnpj</td>\n",
       "    </tr>\n",
       "    <tr>\n",
       "      <th>24</th>\n",
       "      <td>pldoa-nome</td>\n",
       "      <td>hhtin-matricula</td>\n",
       "      <td>cargo2</td>\n",
       "      <td>ppzda-nome</td>\n",
       "      <td>wguuv-cnpj</td>\n",
       "    </tr>\n",
       "    <tr>\n",
       "      <th>25</th>\n",
       "      <td>huebp-nome</td>\n",
       "      <td>sbvtw-matricula</td>\n",
       "      <td>cargo3</td>\n",
       "      <td>ngqam-nome</td>\n",
       "      <td>pvigu-cnpj</td>\n",
       "    </tr>\n",
       "    <tr>\n",
       "      <th>26</th>\n",
       "      <td>ltcej-nome</td>\n",
       "      <td>lzxym-matricula</td>\n",
       "      <td>cargo1</td>\n",
       "      <td>xfkyj-nome</td>\n",
       "      <td>xpnru-cnpj</td>\n",
       "    </tr>\n",
       "    <tr>\n",
       "      <th>27</th>\n",
       "      <td>uewoq-nome</td>\n",
       "      <td>rosvf-matricula</td>\n",
       "      <td>cargo2</td>\n",
       "      <td>xfkyj-nome</td>\n",
       "      <td>xpnru-cnpj</td>\n",
       "    </tr>\n",
       "    <tr>\n",
       "      <th>28</th>\n",
       "      <td>krzxn-nome</td>\n",
       "      <td>zrhwq-matricula</td>\n",
       "      <td>cargo3</td>\n",
       "      <td>xfkyj-nome</td>\n",
       "      <td>xpnru-cnpj</td>\n",
       "    </tr>\n",
       "    <tr>\n",
       "      <th>29</th>\n",
       "      <td>jqdqf-nome</td>\n",
       "      <td>puvft-matricula</td>\n",
       "      <td>cargo2</td>\n",
       "      <td>njfws-nome</td>\n",
       "      <td>rhuhu-cnpj</td>\n",
       "    </tr>\n",
       "    <tr>\n",
       "      <th>...</th>\n",
       "      <td>...</td>\n",
       "      <td>...</td>\n",
       "      <td>...</td>\n",
       "      <td>...</td>\n",
       "      <td>...</td>\n",
       "    </tr>\n",
       "    <tr>\n",
       "      <th>1970</th>\n",
       "      <td>bpvyf-nome</td>\n",
       "      <td>vndba-matricula</td>\n",
       "      <td>cargo2</td>\n",
       "      <td>zlvif-nome</td>\n",
       "      <td>bwtxq-cnpj</td>\n",
       "    </tr>\n",
       "    <tr>\n",
       "      <th>1971</th>\n",
       "      <td>grwax-nome</td>\n",
       "      <td>mgbpe-matricula</td>\n",
       "      <td>cargo1</td>\n",
       "      <td>zlvif-nome</td>\n",
       "      <td>bwtxq-cnpj</td>\n",
       "    </tr>\n",
       "    <tr>\n",
       "      <th>1972</th>\n",
       "      <td>oirpl-nome</td>\n",
       "      <td>yehuh-matricula</td>\n",
       "      <td>cargo1</td>\n",
       "      <td>bglht-nome</td>\n",
       "      <td>jxedf-cnpj</td>\n",
       "    </tr>\n",
       "    <tr>\n",
       "      <th>1973</th>\n",
       "      <td>binfp-nome</td>\n",
       "      <td>tyyjj-matricula</td>\n",
       "      <td>cargo1</td>\n",
       "      <td>lkeml-nome</td>\n",
       "      <td>xzxyc-cnpj</td>\n",
       "    </tr>\n",
       "    <tr>\n",
       "      <th>1974</th>\n",
       "      <td>tfeoz-nome</td>\n",
       "      <td>jrcgj-matricula</td>\n",
       "      <td>cargo2</td>\n",
       "      <td>lkeml-nome</td>\n",
       "      <td>xzxyc-cnpj</td>\n",
       "    </tr>\n",
       "    <tr>\n",
       "      <th>1975</th>\n",
       "      <td>cqjtk-nome</td>\n",
       "      <td>uwnve-matricula</td>\n",
       "      <td>cargo2</td>\n",
       "      <td>lkeml-nome</td>\n",
       "      <td>xzxyc-cnpj</td>\n",
       "    </tr>\n",
       "    <tr>\n",
       "      <th>1976</th>\n",
       "      <td>fuiry-nome</td>\n",
       "      <td>hwuvy-matricula</td>\n",
       "      <td>cargo2</td>\n",
       "      <td>lkeml-nome</td>\n",
       "      <td>xzxyc-cnpj</td>\n",
       "    </tr>\n",
       "    <tr>\n",
       "      <th>1977</th>\n",
       "      <td>jzklw-nome</td>\n",
       "      <td>oqvcx-matricula</td>\n",
       "      <td>cargo2</td>\n",
       "      <td>hvdyv-nome</td>\n",
       "      <td>bwolr-cnpj</td>\n",
       "    </tr>\n",
       "    <tr>\n",
       "      <th>1978</th>\n",
       "      <td>cyhmr-nome</td>\n",
       "      <td>bdvfs-matricula</td>\n",
       "      <td>cargo1</td>\n",
       "      <td>hvdyv-nome</td>\n",
       "      <td>bwolr-cnpj</td>\n",
       "    </tr>\n",
       "    <tr>\n",
       "      <th>1979</th>\n",
       "      <td>kguvv-nome</td>\n",
       "      <td>ammei-matricula</td>\n",
       "      <td>cargo1</td>\n",
       "      <td>yndtz-nome</td>\n",
       "      <td>tqieg-cnpj</td>\n",
       "    </tr>\n",
       "    <tr>\n",
       "      <th>1980</th>\n",
       "      <td>ymjaf-nome</td>\n",
       "      <td>gnvcm-matricula</td>\n",
       "      <td>cargo1</td>\n",
       "      <td>vktmy-nome</td>\n",
       "      <td>mnxnb-cnpj</td>\n",
       "    </tr>\n",
       "    <tr>\n",
       "      <th>1981</th>\n",
       "      <td>gyoum-nome</td>\n",
       "      <td>halsy-matricula</td>\n",
       "      <td>cargo2</td>\n",
       "      <td>vktmy-nome</td>\n",
       "      <td>mnxnb-cnpj</td>\n",
       "    </tr>\n",
       "    <tr>\n",
       "      <th>1982</th>\n",
       "      <td>ayclc-nome</td>\n",
       "      <td>vzuao-matricula</td>\n",
       "      <td>cargo1</td>\n",
       "      <td>vktmy-nome</td>\n",
       "      <td>mnxnb-cnpj</td>\n",
       "    </tr>\n",
       "    <tr>\n",
       "      <th>1983</th>\n",
       "      <td>bkvqe-nome</td>\n",
       "      <td>htcwf-matricula</td>\n",
       "      <td>cargo2</td>\n",
       "      <td>vktmy-nome</td>\n",
       "      <td>mnxnb-cnpj</td>\n",
       "    </tr>\n",
       "    <tr>\n",
       "      <th>1984</th>\n",
       "      <td>bpuie-nome</td>\n",
       "      <td>zmxys-matricula</td>\n",
       "      <td>cargo3</td>\n",
       "      <td>vktmy-nome</td>\n",
       "      <td>mnxnb-cnpj</td>\n",
       "    </tr>\n",
       "    <tr>\n",
       "      <th>1985</th>\n",
       "      <td>gsymx-nome</td>\n",
       "      <td>wodwd-matricula</td>\n",
       "      <td>cargo3</td>\n",
       "      <td>qjhqt-nome</td>\n",
       "      <td>gxiuk-cnpj</td>\n",
       "    </tr>\n",
       "    <tr>\n",
       "      <th>1986</th>\n",
       "      <td>narka-nome</td>\n",
       "      <td>sxnnf-matricula</td>\n",
       "      <td>cargo2</td>\n",
       "      <td>qjhqt-nome</td>\n",
       "      <td>gxiuk-cnpj</td>\n",
       "    </tr>\n",
       "    <tr>\n",
       "      <th>1987</th>\n",
       "      <td>csift-nome</td>\n",
       "      <td>mbzqx-matricula</td>\n",
       "      <td>cargo2</td>\n",
       "      <td>conle-nome</td>\n",
       "      <td>rfyxf-cnpj</td>\n",
       "    </tr>\n",
       "    <tr>\n",
       "      <th>1988</th>\n",
       "      <td>twcbf-nome</td>\n",
       "      <td>vrhnj-matricula</td>\n",
       "      <td>cargo2</td>\n",
       "      <td>fgtdl-nome</td>\n",
       "      <td>roqkw-cnpj</td>\n",
       "    </tr>\n",
       "    <tr>\n",
       "      <th>1989</th>\n",
       "      <td>fmyiv-nome</td>\n",
       "      <td>rwamc-matricula</td>\n",
       "      <td>cargo2</td>\n",
       "      <td>fgtdl-nome</td>\n",
       "      <td>roqkw-cnpj</td>\n",
       "    </tr>\n",
       "    <tr>\n",
       "      <th>1990</th>\n",
       "      <td>hxxhz-nome</td>\n",
       "      <td>wnvlu-matricula</td>\n",
       "      <td>cargo3</td>\n",
       "      <td>qfpce-nome</td>\n",
       "      <td>iasfu-cnpj</td>\n",
       "    </tr>\n",
       "    <tr>\n",
       "      <th>1991</th>\n",
       "      <td>ptuvn-nome</td>\n",
       "      <td>pkdoa-matricula</td>\n",
       "      <td>cargo1</td>\n",
       "      <td>rawey-nome</td>\n",
       "      <td>cqghu-cnpj</td>\n",
       "    </tr>\n",
       "    <tr>\n",
       "      <th>1992</th>\n",
       "      <td>uewhy-nome</td>\n",
       "      <td>fuabw-matricula</td>\n",
       "      <td>cargo2</td>\n",
       "      <td>rawey-nome</td>\n",
       "      <td>cqghu-cnpj</td>\n",
       "    </tr>\n",
       "    <tr>\n",
       "      <th>1993</th>\n",
       "      <td>ogihg-nome</td>\n",
       "      <td>xayfz-matricula</td>\n",
       "      <td>cargo2</td>\n",
       "      <td>rawey-nome</td>\n",
       "      <td>cqghu-cnpj</td>\n",
       "    </tr>\n",
       "    <tr>\n",
       "      <th>1994</th>\n",
       "      <td>evluo-nome</td>\n",
       "      <td>hwmyw-matricula</td>\n",
       "      <td>cargo2</td>\n",
       "      <td>bathf-nome</td>\n",
       "      <td>qjjln-cnpj</td>\n",
       "    </tr>\n",
       "    <tr>\n",
       "      <th>1995</th>\n",
       "      <td>womae-nome</td>\n",
       "      <td>axama-matricula</td>\n",
       "      <td>cargo1</td>\n",
       "      <td>bathf-nome</td>\n",
       "      <td>qjjln-cnpj</td>\n",
       "    </tr>\n",
       "    <tr>\n",
       "      <th>1996</th>\n",
       "      <td>zncnp-nome</td>\n",
       "      <td>wzdvh-matricula</td>\n",
       "      <td>cargo2</td>\n",
       "      <td>mrtij-nome</td>\n",
       "      <td>qcgkr-cnpj</td>\n",
       "    </tr>\n",
       "    <tr>\n",
       "      <th>1997</th>\n",
       "      <td>otpdj-nome</td>\n",
       "      <td>wyszf-matricula</td>\n",
       "      <td>cargo1</td>\n",
       "      <td>mrtij-nome</td>\n",
       "      <td>qcgkr-cnpj</td>\n",
       "    </tr>\n",
       "    <tr>\n",
       "      <th>1998</th>\n",
       "      <td>stdub-nome</td>\n",
       "      <td>gtalv-matricula</td>\n",
       "      <td>cargo2</td>\n",
       "      <td>mrtij-nome</td>\n",
       "      <td>qcgkr-cnpj</td>\n",
       "    </tr>\n",
       "    <tr>\n",
       "      <th>1999</th>\n",
       "      <td>yknyj-nome</td>\n",
       "      <td>ptegb-matricula</td>\n",
       "      <td>cargo1</td>\n",
       "      <td>mrtij-nome</td>\n",
       "      <td>qcgkr-cnpj</td>\n",
       "    </tr>\n",
       "  </tbody>\n",
       "</table>\n",
       "<p>2000 rows × 5 columns</p>\n",
       "</div>"
      ],
      "text/plain": [
       "            nome        matricula   cargo empresa_nome empresa_cnpj\n",
       "0     kbylm-nome  huglc-matricula  cargo1   ujkpu-nome   gdasf-cnpj\n",
       "1     nazpr-nome  cqesk-matricula  cargo2   ujkpu-nome   gdasf-cnpj\n",
       "2     nppmy-nome  bdmow-matricula  cargo1   oitep-nome   spjes-cnpj\n",
       "3     bybrk-nome  tqwqf-matricula  cargo3   oitep-nome   spjes-cnpj\n",
       "4     ywrzp-nome  upclv-matricula  cargo2   oitep-nome   spjes-cnpj\n",
       "5     pptio-nome  xspac-matricula  cargo2   tuinb-nome   metio-cnpj\n",
       "6     qagwp-nome  czmfl-matricula  cargo3   tuinb-nome   metio-cnpj\n",
       "7     annns-nome  mgxyn-matricula  cargo2   tuinb-nome   metio-cnpj\n",
       "8     fuocs-nome  rotzb-matricula  cargo2   tuinb-nome   metio-cnpj\n",
       "9     zmaxl-nome  bwjpc-matricula  cargo3   tuinb-nome   metio-cnpj\n",
       "10    ieukh-nome  rixcj-matricula  cargo3   tuinb-nome   metio-cnpj\n",
       "11    tcojz-nome  mugjx-matricula  cargo2   fazfz-nome   pzpnd-cnpj\n",
       "12    figzt-nome  rmwki-matricula  cargo3   ekffb-nome   slagy-cnpj\n",
       "13    oalzf-nome  kcoxu-matricula  cargo1   dlqvc-nome   npdte-cnpj\n",
       "14    hxfdr-nome  xhugv-matricula  cargo3   ulnil-nome   pccqw-cnpj\n",
       "15    etccw-nome  teyfy-matricula  cargo2   wnbxb-nome   tqybh-cnpj\n",
       "16    xghzy-nome  xcmqx-matricula  cargo3   wnbxb-nome   tqybh-cnpj\n",
       "17    tkuis-nome  mlkna-matricula  cargo1   wnbxb-nome   tqybh-cnpj\n",
       "18    ckhto-nome  cuhod-matricula  cargo3   ppzda-nome   wguuv-cnpj\n",
       "19    srrap-nome  kcyhz-matricula  cargo3   ppzda-nome   wguuv-cnpj\n",
       "20    zyzmt-nome  gwoaa-matricula  cargo1   ppzda-nome   wguuv-cnpj\n",
       "21    ecyna-nome  nijxt-matricula  cargo2   ppzda-nome   wguuv-cnpj\n",
       "22    olcdx-nome  yhkmb-matricula  cargo3   ppzda-nome   wguuv-cnpj\n",
       "23    ikitg-nome  pnbal-matricula  cargo2   ppzda-nome   wguuv-cnpj\n",
       "24    pldoa-nome  hhtin-matricula  cargo2   ppzda-nome   wguuv-cnpj\n",
       "25    huebp-nome  sbvtw-matricula  cargo3   ngqam-nome   pvigu-cnpj\n",
       "26    ltcej-nome  lzxym-matricula  cargo1   xfkyj-nome   xpnru-cnpj\n",
       "27    uewoq-nome  rosvf-matricula  cargo2   xfkyj-nome   xpnru-cnpj\n",
       "28    krzxn-nome  zrhwq-matricula  cargo3   xfkyj-nome   xpnru-cnpj\n",
       "29    jqdqf-nome  puvft-matricula  cargo2   njfws-nome   rhuhu-cnpj\n",
       "...          ...              ...     ...          ...          ...\n",
       "1970  bpvyf-nome  vndba-matricula  cargo2   zlvif-nome   bwtxq-cnpj\n",
       "1971  grwax-nome  mgbpe-matricula  cargo1   zlvif-nome   bwtxq-cnpj\n",
       "1972  oirpl-nome  yehuh-matricula  cargo1   bglht-nome   jxedf-cnpj\n",
       "1973  binfp-nome  tyyjj-matricula  cargo1   lkeml-nome   xzxyc-cnpj\n",
       "1974  tfeoz-nome  jrcgj-matricula  cargo2   lkeml-nome   xzxyc-cnpj\n",
       "1975  cqjtk-nome  uwnve-matricula  cargo2   lkeml-nome   xzxyc-cnpj\n",
       "1976  fuiry-nome  hwuvy-matricula  cargo2   lkeml-nome   xzxyc-cnpj\n",
       "1977  jzklw-nome  oqvcx-matricula  cargo2   hvdyv-nome   bwolr-cnpj\n",
       "1978  cyhmr-nome  bdvfs-matricula  cargo1   hvdyv-nome   bwolr-cnpj\n",
       "1979  kguvv-nome  ammei-matricula  cargo1   yndtz-nome   tqieg-cnpj\n",
       "1980  ymjaf-nome  gnvcm-matricula  cargo1   vktmy-nome   mnxnb-cnpj\n",
       "1981  gyoum-nome  halsy-matricula  cargo2   vktmy-nome   mnxnb-cnpj\n",
       "1982  ayclc-nome  vzuao-matricula  cargo1   vktmy-nome   mnxnb-cnpj\n",
       "1983  bkvqe-nome  htcwf-matricula  cargo2   vktmy-nome   mnxnb-cnpj\n",
       "1984  bpuie-nome  zmxys-matricula  cargo3   vktmy-nome   mnxnb-cnpj\n",
       "1985  gsymx-nome  wodwd-matricula  cargo3   qjhqt-nome   gxiuk-cnpj\n",
       "1986  narka-nome  sxnnf-matricula  cargo2   qjhqt-nome   gxiuk-cnpj\n",
       "1987  csift-nome  mbzqx-matricula  cargo2   conle-nome   rfyxf-cnpj\n",
       "1988  twcbf-nome  vrhnj-matricula  cargo2   fgtdl-nome   roqkw-cnpj\n",
       "1989  fmyiv-nome  rwamc-matricula  cargo2   fgtdl-nome   roqkw-cnpj\n",
       "1990  hxxhz-nome  wnvlu-matricula  cargo3   qfpce-nome   iasfu-cnpj\n",
       "1991  ptuvn-nome  pkdoa-matricula  cargo1   rawey-nome   cqghu-cnpj\n",
       "1992  uewhy-nome  fuabw-matricula  cargo2   rawey-nome   cqghu-cnpj\n",
       "1993  ogihg-nome  xayfz-matricula  cargo2   rawey-nome   cqghu-cnpj\n",
       "1994  evluo-nome  hwmyw-matricula  cargo2   bathf-nome   qjjln-cnpj\n",
       "1995  womae-nome  axama-matricula  cargo1   bathf-nome   qjjln-cnpj\n",
       "1996  zncnp-nome  wzdvh-matricula  cargo2   mrtij-nome   qcgkr-cnpj\n",
       "1997  otpdj-nome  wyszf-matricula  cargo1   mrtij-nome   qcgkr-cnpj\n",
       "1998  stdub-nome  gtalv-matricula  cargo2   mrtij-nome   qcgkr-cnpj\n",
       "1999  yknyj-nome  ptegb-matricula  cargo1   mrtij-nome   qcgkr-cnpj\n",
       "\n",
       "[2000 rows x 5 columns]"
      ]
     },
     "execution_count": 33,
     "metadata": {},
     "output_type": "execute_result"
    }
   ],
   "source": [
    "result"
   ]
  },
  {
   "cell_type": "markdown",
   "metadata": {},
   "source": [
    "### Quantidade total de cada cargo\n",
    "reaproveitando o código anterior, podemos verificar o total de funcionários em cada cargo, somando todas as empresas."
   ]
  },
  {
   "cell_type": "code",
   "execution_count": 54,
   "metadata": {},
   "outputs": [],
   "source": [
    "result = pd.read_sql_query(\"\"\"\n",
    "select c.nome as cargo,\n",
    "count(*) as quantidade\n",
    "from pessoa_fisica_info as p inner join funcionario as f\n",
    "on f.fk_pessoa_fisica_id = p.id \n",
    "inner join cargo as c\n",
    "on f.fk_cargo_id = c.id \n",
    "inner join pessoa_juridica_info as pj\n",
    "on f.fk_pessoa_juridica_id = pj.id\n",
    "group by c.nome;\n",
    "                            \"\"\",conn)"
   ]
  },
  {
   "cell_type": "code",
   "execution_count": 56,
   "metadata": {},
   "outputs": [
    {
     "data": {
      "text/html": [
       "<div>\n",
       "<style scoped>\n",
       "    .dataframe tbody tr th:only-of-type {\n",
       "        vertical-align: middle;\n",
       "    }\n",
       "\n",
       "    .dataframe tbody tr th {\n",
       "        vertical-align: top;\n",
       "    }\n",
       "\n",
       "    .dataframe thead th {\n",
       "        text-align: right;\n",
       "    }\n",
       "</style>\n",
       "<table border=\"1\" class=\"dataframe\">\n",
       "  <thead>\n",
       "    <tr style=\"text-align: right;\">\n",
       "      <th></th>\n",
       "      <th>cargo</th>\n",
       "      <th>quantidade</th>\n",
       "    </tr>\n",
       "  </thead>\n",
       "  <tbody>\n",
       "    <tr>\n",
       "      <th>0</th>\n",
       "      <td>cargo2</td>\n",
       "      <td>1013</td>\n",
       "    </tr>\n",
       "    <tr>\n",
       "      <th>1</th>\n",
       "      <td>cargo1</td>\n",
       "      <td>512</td>\n",
       "    </tr>\n",
       "    <tr>\n",
       "      <th>2</th>\n",
       "      <td>cargo3</td>\n",
       "      <td>475</td>\n",
       "    </tr>\n",
       "  </tbody>\n",
       "</table>\n",
       "</div>"
      ],
      "text/plain": [
       "    cargo  quantidade\n",
       "0  cargo2        1013\n",
       "1  cargo1         512\n",
       "2  cargo3         475"
      ]
     },
     "execution_count": 56,
     "metadata": {},
     "output_type": "execute_result"
    }
   ],
   "source": [
    "result"
   ]
  },
  {
   "cell_type": "code",
   "execution_count": 57,
   "metadata": {},
   "outputs": [
    {
     "data": {
      "text/plain": [
       "<matplotlib.axes._subplots.AxesSubplot at 0x198e0a49320>"
      ]
     },
     "execution_count": 57,
     "metadata": {},
     "output_type": "execute_result"
    },
    {
     "data": {
      "image/png": "[encoded data removed]",
      "text/plain": [
       "<Figure size 360x360 with 1 Axes>"
      ]
     },
     "metadata": {
      "needs_background": "light"
     },
     "output_type": "display_data"
    }
   ],
   "source": [
    "result.plot(kind='bar', x='cargo', y='quantidade', figsize=(5,5))"
   ]
  },
  {
   "cell_type": "code",
   "execution_count": 59,
   "metadata": {},
   "outputs": [
    {
     "data": {
      "text/plain": [
       "<matplotlib.axes._subplots.AxesSubplot at 0x198e0a5a668>"
      ]
     },
     "execution_count": 59,
     "metadata": {},
     "output_type": "execute_result"
    },
    {
     "data": {
      "image/png": "[encoded data removed]",
      "text/plain": [
       "<Figure size 360x360 with 1 Axes>"
      ]
     },
     "metadata": {
      "needs_background": "light"
     },
     "output_type": "display_data"
    }
   ],
   "source": [
    "result.plot(x='cargo', y='quantidade', figsize=(5,5))"
   ]
  },
  {
   "cell_type": "code",
   "execution_count": 60,
   "metadata": {},
   "outputs": [
    {
     "data": {
      "text/plain": [
       "<matplotlib.axes._subplots.AxesSubplot at 0x198e0b19358>"
      ]
     },
     "execution_count": 60,
     "metadata": {},
     "output_type": "execute_result"
    },
    {
     "data": {
      "image/png": "[encoded data removed]",
      "text/plain": [
       "<Figure size 360x360 with 1 Axes>"
      ]
     },
     "metadata": {},
     "output_type": "display_data"
    }
   ],
   "source": [
    "result.plot.pie(x='cargo', y='quantidade', figsize=(5,5))"
   ]
  },
  {
   "cell_type": "code",
   "execution_count": null,
   "metadata": {},
   "outputs": [],
   "source": []
  },
  {
   "cell_type": "markdown",
   "metadata": {},
   "source": [
    "# Referencias"
   ]
  },
  {
   "cell_type": "markdown",
   "metadata": {},
   "source": [
    "https://pandas.pydata.org/pandas-docs/stable/style.html <br>\n",
    "https://pythonspot.com/matplotlib-bar-chart/<br>\n",
    "https://pandas.pydata.org/pandas-docs/stable/generated/pandas.DataFrame.loc.html <br>"
   ]
  }
 ],
 "metadata": {
  "kernelspec": {
   "display_name": "Python 3",
   "language": "python",
   "name": "python3"
  },
  "language_info": {
   "codemirror_mode": {
    "name": "ipython",
    "version": 3
   },
   "file_extension": ".py",
   "mimetype": "text/x-python",
   "name": "python",
   "nbconvert_exporter": "python",
   "pygments_lexer": "ipython3",
   "version": "3.7.0"
  }
 },
 "nbformat": 4,
 "nbformat_minor": 2
}
